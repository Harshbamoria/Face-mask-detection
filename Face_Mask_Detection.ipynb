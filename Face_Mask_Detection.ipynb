{
  "nbformat": 4,
  "nbformat_minor": 0,
  "metadata": {
    "colab": {
      "name": "Face Mask Detection.ipynb",
      "provenance": [],
      "collapsed_sections": []
    },
    "kernelspec": {
      "display_name": "Python 3",
      "name": "python3"
    }
  },
  "cells": [
    {
      "cell_type": "code",
      "metadata": {
        "colab": {
          "base_uri": "https://localhost:8080/"
        },
        "id": "OM20GwYjAE7G",
        "outputId": "3048f5f1-640a-4a7f-d38a-f764b67f2a3d"
      },
      "source": [
        "from google.colab import drive\n",
        "drive.mount('/content/drive')"
      ],
      "execution_count": null,
      "outputs": [
        {
          "output_type": "stream",
          "text": [
            "Mounted at /content/drive\n"
          ],
          "name": "stdout"
        }
      ]
    },
    {
      "cell_type": "markdown",
      "metadata": {
        "id": "8vi_oUyRkLy9"
      },
      "source": [
        "# Libary reuire for Project"
      ]
    },
    {
      "cell_type": "code",
      "metadata": {
        "id": "sl3xLSeJQK0R"
      },
      "source": [
        "import cv2\n",
        "import os\n",
        "from tensorflow.keras.preprocessing.image import img_to_array\n",
        "from tensorflow.keras.models import load_model\n",
        "from tensorflow.keras.applications.mobilenet_v2 import preprocess_input\n",
        "import numpy as np\n",
        "from google.colab.patches import cv2_imshow\n",
        "import PIL\n",
        "import io\n",
        "import html\n",
        "import time\n",
        "from IPython.display import display, Javascript\n",
        "from google.colab.output import eval_js\n",
        "from base64 import b64decode, b64encode\n",
        "from IPython.display import Image\n"
      ],
      "execution_count": null,
      "outputs": []
    },
    {
      "cell_type": "markdown",
      "metadata": {
        "id": "mSIr7w17kFxN"
      },
      "source": [
        "# Loading Pre trained models"
      ]
    },
    {
      "cell_type": "code",
      "metadata": {
        "id": "xc7u6UzhBWAi"
      },
      "source": [
        "# faceCascade = cv2.CascadeClassifier(\"drive/MyDrive/Models/haarcascade_frontalface_alt2.xml\")\n",
        "faceCascade = cv2.CascadeClassifier(\"drive/MyDrive/Models/haarcascade_frontalface_default.xml\")\n",
        "model = load_model(\"drive/MyDrive/Models/mask_recog.h5\")\n",
        "#model.summary()"
      ],
      "execution_count": null,
      "outputs": []
    },
    {
      "cell_type": "markdown",
      "metadata": {
        "id": "6TiuJ8kIkABl"
      },
      "source": [
        "# Function for face and mask detction"
      ]
    },
    {
      "cell_type": "code",
      "metadata": {
        "id": "SVOMsUoEBPKx"
      },
      "source": [
        "def face_mask_detector(frame):\n",
        "  # frame = cv2.imread(fileName)\n",
        "  gray = cv2.cvtColor(frame, cv2.COLOR_BGR2GRAY)\n",
        "  faces = faceCascade.detectMultiScale(gray,\n",
        "                                        scaleFactor=1.1,\n",
        "                                        minNeighbors=5,\n",
        "                                        minSize=(60, 60),\n",
        "                                        flags=cv2.CASCADE_SCALE_IMAGE)\n",
        "  faces_list=[]\n",
        "  preds=[]\n",
        "  for (x, y, w, h) in faces:\n",
        "      face_frame = frame[y:y+h,x:x+w]\n",
        "      face_frame = cv2.cvtColor(face_frame, cv2.COLOR_BGR2RGB)\n",
        "      face_frame = cv2.resize(face_frame, (224, 224))\n",
        "      face_frame = img_to_array(face_frame)\n",
        "      face_frame = np.expand_dims(face_frame, axis=0)\n",
        "      face_frame =  preprocess_input(face_frame)\n",
        "      faces_list.append(face_frame)\n",
        "      if len(faces_list)>0:\n",
        "          preds = model.predict(faces_list)\n",
        "          print(preds)\n",
        "      for pred in preds:\n",
        "          (mask, withoutMask) = pred\n",
        "      label = \"Mask\" if mask > withoutMask else \"No Mask\"\n",
        "      color = (0, 255, 0) if label == \"Mask\" else (0, 0, 255)\n",
        "      label = \"{}: {:.2f}%\".format(label, max(mask, withoutMask) * 100)\n",
        "      cv2.putText(frame, label, (x, y- 10),\n",
        "                  cv2.FONT_HERSHEY_SIMPLEX, 1, color, 2)\n",
        "\n",
        "      cv2.rectangle(frame, (x, y), (x + w, y + h),color, 3)\n",
        "  # cv2_imshow(frame)\n",
        "  return [frame,faces]"
      ],
      "execution_count": null,
      "outputs": []
    },
    {
      "cell_type": "code",
      "metadata": {
        "id": "w9EH1BzxVVna"
      },
      "source": [
        "input_image = cv2.imread(\"drive/MyDrive/Images_dataset/h.jpg\")\n",
        "input_image = cv2.rotate(input_image, cv2.cv2.ROTATE_90_CLOCKWISE)\n",
        "output,f = face_mask_detector(input_image)\n",
        "print(f)\n",
        "cv2_imshow(output)"
      ],
      "execution_count": null,
      "outputs": []
    },
    {
      "cell_type": "code",
      "metadata": {
        "id": "Lushb1kPi_7A"
      },
      "source": [
        "\n",
        "def take_photo(filename='photo.jpg', quality=0.8):\n",
        "  js = Javascript('''\n",
        "    async function takePhoto(quality) {\n",
        "      const div = document.createElement('div');\n",
        "      const capture = document.createElement('button');\n",
        "      capture.textContent = 'Capture';\n",
        "      div.appendChild(capture);\n",
        "\n",
        "      const video = document.createElement('video');\n",
        "      video.style.display = 'block';\n",
        "      const stream = await navigator.mediaDevices.getUserMedia({video: true});\n",
        "\n",
        "      document.body.appendChild(div);\n",
        "      div.appendChild(video);\n",
        "      video.srcObject = stream;\n",
        "      await video.play();\n",
        "\n",
        "      // Resize the output to fit the video element.\n",
        "      google.colab.output.setIframeHeight(document.documentElement.scrollHeight, true);\n",
        "\n",
        "      // Wait for Capture to be clicked.\n",
        "      await new Promise((resolve) => capture.onclick = resolve);\n",
        "\n",
        "      const canvas = document.createElement('canvas');\n",
        "      canvas.width = video.videoWidth;\n",
        "      canvas.height = video.videoHeight;\n",
        "      canvas.getContext('2d').drawImage(video, 0, 0);\n",
        "      stream.getVideoTracks()[0].stop();\n",
        "      div.remove();\n",
        "      return canvas.toDataURL('image/jpeg', quality);\n",
        "    }\n",
        "    ''')\n",
        "  display(js)\n",
        "  data = eval_js('takePhoto({})'.format(quality))\n",
        "  binary = b64decode(data.split(',')[1])\n",
        "  with open(filename, 'wb') as f:\n",
        "    f.write(binary)\n",
        "  return filename"
      ],
      "execution_count": null,
      "outputs": []
    },
    {
      "cell_type": "markdown",
      "metadata": {
        "id": "sKXzfWwejkEv"
      },
      "source": [
        "# Capture Image"
      ]
    },
    {
      "cell_type": "code",
      "metadata": {
        "id": "jrlUY5n-i_7G"
      },
      "source": [
        "try:\n",
        "  filename = take_photo('harsh.jpg')\n",
        "  print('Saved to {}'.format(filename))\n",
        "  \n",
        "  # Show the image which was just taken.\n",
        "  display(Image(filename))\n",
        "except Exception as err:\n",
        "  # Errors will be thrown if the user does not have a webcam or if they do not\n",
        "  # grant the page permission to access it.\n",
        "  print(str(err))"
      ],
      "execution_count": null,
      "outputs": []
    },
    {
      "cell_type": "markdown",
      "metadata": {
        "id": "jGyeBL1pjpXu"
      },
      "source": [
        "# Predict capture image"
      ]
    },
    {
      "cell_type": "code",
      "metadata": {
        "id": "scIxA__KjRKE"
      },
      "source": [
        "input_image = cv2.imread(\"photo.jpg\")\n",
        "# input_image = cv2.rotate(input_image, cv2.cv2.ROTATE_90_CLOCKWISE)\n",
        "output,f = face_mask_detector(input_image)\n",
        "print(f)\n",
        "cv2_imshow(output)"
      ],
      "execution_count": null,
      "outputs": []
    },
    {
      "cell_type": "markdown",
      "metadata": {
        "id": "l3O7k3Svjw81"
      },
      "source": [
        "# Live Prediction"
      ]
    },
    {
      "cell_type": "markdown",
      "metadata": {
        "id": "E1tlY7tg4Afz"
      },
      "source": [
        "First create video stream for prediction"
      ]
    },
    {
      "cell_type": "code",
      "metadata": {
        "id": "nQRaXVViTa2Y"
      },
      "source": [
        "# JavaScript to properly create our live video stream using our webcam as input\n",
        "def video_stream():\n",
        "  js = Javascript('''\n",
        "    var video;\n",
        "    var div = null;\n",
        "    var stream;\n",
        "    var captureCanvas;\n",
        "    var imgElement;\n",
        "    var labelElement;\n",
        "    \n",
        "    var pendingResolve = null;\n",
        "    var shutdown = false;\n",
        "    \n",
        "    function removeDom() {\n",
        "       stream.getVideoTracks()[0].stop();\n",
        "       video.remove();\n",
        "       div.remove();\n",
        "       video = null;\n",
        "       div = null;\n",
        "       stream = null;\n",
        "       imgElement = null;\n",
        "       captureCanvas = null;\n",
        "       labelElement = null;\n",
        "    }\n",
        "    \n",
        "    function onAnimationFrame() {\n",
        "      if (!shutdown) {\n",
        "        window.requestAnimationFrame(onAnimationFrame);\n",
        "      }\n",
        "      if (pendingResolve) {\n",
        "        var result = \"\";\n",
        "        if (!shutdown) {\n",
        "          captureCanvas.getContext('2d').drawImage(video, 0, 0, 640, 480);\n",
        "          result = captureCanvas.toDataURL('image/jpeg', 0.8)\n",
        "        }\n",
        "        var lp = pendingResolve;\n",
        "        pendingResolve = null;\n",
        "        lp(result);\n",
        "      }\n",
        "    }\n",
        "    \n",
        "    async function createDom() {\n",
        "      if (div !== null) {\n",
        "        return stream;\n",
        "      }\n",
        "\n",
        "      div = document.createElement('div');\n",
        "      div.style.border = '2px solid black';\n",
        "      div.style.padding = '3px';\n",
        "      div.style.width = '100%';\n",
        "      // div.style.maxWidth = '600px';\n",
        "      div.style.maxWidth = '90vw';\n",
        "      document.body.appendChild(div);\n",
        "      \n",
        "      const modelOut = document.createElement('div');\n",
        "      modelOut.innerHTML = \"<span>Status:</span>\";\n",
        "      labelElement = document.createElement('span');\n",
        "      labelElement.innerText = 'No data';\n",
        "      labelElement.style.fontWeight = 'bold';\n",
        "      modelOut.appendChild(labelElement);\n",
        "      div.appendChild(modelOut);\n",
        "           \n",
        "      video = document.createElement('video');\n",
        "      video.style.display = 'block';\n",
        "      video.width = div.clientWidth - 6;\n",
        "      video.setAttribute('playsinline', '');\n",
        "      video.onclick = () => { shutdown = true; };\n",
        "      stream = await navigator.mediaDevices.getUserMedia(\n",
        "          {video: { facingMode: \"environment\"}});\n",
        "      div.appendChild(video);\n",
        "\n",
        "      imgElement = document.createElement('img');\n",
        "      imgElement.style.position = 'absolute';\n",
        "      imgElement.style.zIndex = 1;\n",
        "      imgElement.onclick = () => { shutdown = true; };\n",
        "      div.appendChild(imgElement);\n",
        "      \n",
        "      const instruction = document.createElement('div');\n",
        "      instruction.innerHTML = \n",
        "          '<span style=\"color: red; font-weight: bold;\">' +\n",
        "          'When finished, click here or on the video to stop this demo</span>';\n",
        "      div.appendChild(instruction);\n",
        "      instruction.onclick = () => { shutdown = true; };\n",
        "      \n",
        "      video.srcObject = stream;\n",
        "      await video.play();\n",
        "\n",
        "      captureCanvas = document.createElement('canvas');\n",
        "      captureCanvas.width = 640; //video.videoWidth;\n",
        "      captureCanvas.height = 480; //video.videoHeight;\n",
        "      window.requestAnimationFrame(onAnimationFrame);\n",
        "      \n",
        "      return stream;\n",
        "    }\n",
        "    async function stream_frame(label, imgData) {\n",
        "      if (shutdown) {\n",
        "        removeDom();\n",
        "        shutdown = false;\n",
        "        return '';\n",
        "      }\n",
        "\n",
        "      var preCreate = Date.now();\n",
        "      stream = await createDom();\n",
        "      \n",
        "      var preShow = Date.now();\n",
        "      if (label != \"\") {\n",
        "        labelElement.innerHTML = label;\n",
        "      }\n",
        "            \n",
        "      if (imgData != \"\") {\n",
        "        var videoRect = video.getClientRects()[0];\n",
        "        imgElement.style.top = videoRect.top + \"px\";\n",
        "        imgElement.style.left = videoRect.left + \"px\";\n",
        "        imgElement.style.width = videoRect.width + \"px\";\n",
        "        imgElement.style.height = videoRect.height + \"px\";\n",
        "        imgElement.src = imgData;\n",
        "      }\n",
        "      \n",
        "      var preCapture = Date.now();\n",
        "      var result = await new Promise(function(resolve, reject) {\n",
        "        pendingResolve = resolve;\n",
        "      });\n",
        "      shutdown = false;\n",
        "      \n",
        "      return {'create': preShow - preCreate, \n",
        "              'show': preCapture - preShow, \n",
        "              'capture': Date.now() - preCapture,\n",
        "              'img': result};\n",
        "    }\n",
        "    ''')\n",
        "\n",
        "  display(js)\n",
        "  \n",
        "def video_frame(label, bbox):\n",
        "  data = eval_js('stream_frame(\"{}\", \"{}\")'.format(label, bbox))\n",
        "  return data"
      ],
      "execution_count": null,
      "outputs": []
    },
    {
      "cell_type": "markdown",
      "metadata": {
        "id": "s0EzZHcR4Jyg"
      },
      "source": [
        "### Start predicting "
      ]
    },
    {
      "cell_type": "code",
      "metadata": {
        "id": "ADQHD-SETg7I"
      },
      "source": [
        "# start streaming video from webcam\n",
        "video_stream()\n",
        "# label for video\n",
        "label_html = 'Live'\n",
        "# initialze bounding box to empty\n",
        "bbox = ''\n",
        "count = 0 \n",
        "while True:\n",
        "    js_reply = video_frame(label_html, bbox)\n",
        "    if not js_reply:\n",
        "        break\n",
        "\n",
        "    # convert JS response to OpenCV Image\n",
        "    img = js_to_image(js_reply[\"img\"])\n",
        "\n",
        "    # create transparent overlay for bounding box\n",
        "    bbox_array = np.zeros([480,640,4], dtype=np.uint8)\n",
        "\n",
        "    # grayscale image for face detection\n",
        "    gray = cv2.cvtColor(img, cv2.COLOR_RGB2GRAY)\n",
        "    \n",
        "    \n",
        "    # get face region coordinates\n",
        "    # faces = face_cascade.detectMultiScale(gray)\n",
        "    faces = faceCascade.detectMultiScale(gray,\n",
        "                                        scaleFactor=1.1,\n",
        "                                        minNeighbors=5,\n",
        "                                        minSize=(60, 60),\n",
        "                                        flags=cv2.CASCADE_SCALE_IMAGE)\n",
        "    \n",
        "    faces_list=[]\n",
        "    preds=[]\n",
        "    # # get face bounding box for overlay\n",
        "    for (x,y,w,h) in faces:\n",
        "      face_frame = img[y:y+h,x:x+w]\n",
        "      face_frame = cv2.cvtColor(face_frame, cv2.COLOR_BGR2RGB)\n",
        "      face_frame = cv2.resize(face_frame, (224, 224))\n",
        "      face_frame = img_to_array(face_frame)\n",
        "      face_frame = np.expand_dims(face_frame, axis=0)\n",
        "      face_frame =  preprocess_input(face_frame)\n",
        "      faces_list.append(face_frame)\n",
        "      # print(len(faces_list))\n",
        "\n",
        "      if len(faces_list)>0:\n",
        "        for f in faces_list:\n",
        "          preds = model.predict(f)\n",
        "          # print(preds,faces)\n",
        "      \n",
        "      for pred in preds:\n",
        "          (mask, withoutMask) = pred\n",
        "      label = \"Mask\" if mask > withoutMask else \"No Mask\"\n",
        "      color = (0, 255, 0) if label == \"Mask\" else (255, 0, 0)\n",
        "\n",
        "      bbox_array = cv2.rectangle(bbox_array,(x,y),(x+w,y+h),color,2)\n",
        "\n",
        "    bbox_array[:,:,3] = (bbox_array.max(axis = 2) > 0 ).astype(int) * 255\n",
        "    # # convert overlay of bbox into bytes\n",
        "    bbox_bytes = bbox_to_bytes(bbox_array)\n",
        "    # # update bbox so next frame gets new overlay\n",
        "    bbox = bbox_bytes"
      ],
      "execution_count": null,
      "outputs": []
    },
    {
      "cell_type": "code",
      "metadata": {
        "id": "iaJ58w3tSa12"
      },
      "source": [
        "# function to convert the JavaScript object into an OpenCV image\n",
        "def js_to_image(js_reply):\n",
        "  \"\"\"\n",
        "  Params:\n",
        "          js_reply: JavaScript object containing image from webcam\n",
        "  Returns:\n",
        "          img: OpenCV BGR image\n",
        "  \"\"\"\n",
        "  # decode base64 image\n",
        "  image_bytes = b64decode(js_reply.split(',')[1])\n",
        "  # convert bytes to numpy array\n",
        "  jpg_as_np = np.frombuffer(image_bytes, dtype=np.uint8)\n",
        "  # decode numpy array into OpenCV BGR image\n",
        "  img = cv2.imdecode(jpg_as_np, flags=1)\n",
        "\n",
        "  return img\n",
        "\n",
        "# function to convert OpenCV Rectangle bounding box image into base64 byte string to be overlayed on video stream\n",
        "def bbox_to_bytes(bbox_array):\n",
        "  \"\"\"\n",
        "  Params:\n",
        "          bbox_array: Numpy array (pixels) containing rectangle to overlay on video stream.\n",
        "  Returns:\n",
        "        bytes: Base64 image byte string\n",
        "  \"\"\"\n",
        "  # convert array into PIL image\n",
        "  bbox_PIL = PIL.Image.fromarray(bbox_array, 'RGBA')\n",
        "  iobuf = io.BytesIO()\n",
        "  # format bbox into png for return\n",
        "  bbox_PIL.save(iobuf, format='png')\n",
        "  # format return string\n",
        "  bbox_bytes = 'data:image/png;base64,{}'.format((str(b64encode(iobuf.getvalue()), 'utf-8')))\n",
        "\n",
        "  return bbox_bytes"
      ],
      "execution_count": null,
      "outputs": []
    },
    {
      "cell_type": "code",
      "metadata": {
        "id": "fsX0CIUDWj49"
      },
      "source": [
        "input_image = cv2.imread(\"image2.png\")\n",
        "output = face_mask_detector(input_image)\n",
        "cv2_imshow(output)"
      ],
      "execution_count": null,
      "outputs": []
    },
    {
      "cell_type": "code",
      "metadata": {
        "id": "8uQVZxfFWrx3"
      },
      "source": [
        "input_image = cv2.imread(\"image3.png\")\n",
        "output = face_mask_detector(input_image)\n",
        "cv2_imshow(output)"
      ],
      "execution_count": null,
      "outputs": []
    },
    {
      "cell_type": "code",
      "metadata": {
        "id": "nB6uDjEmWuzm"
      },
      "source": [
        "input_image = cv2.imread(\"image4.jpg\")\n",
        "output = face_mask_detector(input_image)\n",
        "cv2_imshow(output)"
      ],
      "execution_count": null,
      "outputs": []
    }
  ]
}